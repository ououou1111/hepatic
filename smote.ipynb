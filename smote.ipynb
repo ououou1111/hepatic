{
 "cells": [
  {
   "cell_type": "code",
   "execution_count": null,
   "id": "54784bff",
   "metadata": {},
   "outputs": [],
   "source": [
    "#SMOTE算法及其python实现\n",
    "from sklearn.neighbors import NearestNeighbors\n",
    "\n",
    "class Smote:\n",
    "    def __init__(self, samples, N=100, k=5):\n",
    "        self.n_samples, self.n_attrs = samples.shape\n",
    "        self.N = N\n",
    "        self.k = k\n",
    "        self.samples = samples\n",
    "        self.newindex = 0\n",
    "        self.synthetic = np.zeros((self.n_samples * int(N / 100), self.n_attrs))\n",
    "\n",
    "    def over_sampling(self):\n",
    "        neighbors = NearestNeighbors(n_neighbors=self.k).fit(self.samples)\n",
    "\n",
    "        for i in range(len(self.samples)):\n",
    "            nnarray = neighbors.kneighbors(self.samples[i].reshape(1,-1), return_distance=False)[0]\n",
    "            self._populate(int(self.N/100), i, nnarray)\n",
    "\n",
    "        return self.synthetic\n",
    "\n",
    "    def _populate(self, N, i, nnarray):\n",
    "        for j in range(N):\n",
    "            nn = random.randint(0, len(nnarray)-1)\n",
    "            dif = self.samples[nnarray[nn]] - self.samples[i]\n",
    "            gap = random.random()\n",
    "            self.synthetic[self.newindex] = self.samples[i] + gap * dif\n",
    "            self.newindex += 1\n",
    "            \n",
    "X=maccskeys\n",
    "s=Smote(X,N=100)\n",
    "x=s.over_sampling()"
   ]
  }
 ],
 "metadata": {
  "kernelspec": {
   "display_name": "Python 3",
   "language": "python",
   "name": "python3"
  },
  "language_info": {
   "codemirror_mode": {
    "name": "ipython",
    "version": 3
   },
   "file_extension": ".py",
   "mimetype": "text/x-python",
   "name": "python",
   "nbconvert_exporter": "python",
   "pygments_lexer": "ipython3",
   "version": "3.8.12"
  }
 },
 "nbformat": 4,
 "nbformat_minor": 5
}
